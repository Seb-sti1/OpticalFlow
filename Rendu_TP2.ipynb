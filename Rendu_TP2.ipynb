{
 "cells": [
  {
   "cell_type": "code",
   "execution_count": 1,
   "id": "12dd6d62",
   "metadata": {},
   "outputs": [],
   "source": [
    "import numpy as np\n",
    "import cv2\n"
   ]
  },
  {
   "cell_type": "markdown",
   "id": "e05eca73",
   "metadata": {},
   "source": [
    "# Histogramme de couleurs"
   ]
  },
  {
   "cell_type": "code",
   "execution_count": 2,
   "id": "0bbf6390",
   "metadata": {},
   "outputs": [
    {
     "name": "stderr",
     "output_type": "stream",
     "text": [
      "/tmp/ipykernel_32282/4072166009.py:21: RuntimeWarning: divide by zero encountered in log\n",
      "  hist = np.log(hist)\n"
     ]
    }
   ],
   "source": [
    "cap = cv2.VideoCapture('videos/Extrait1-Cosmos_Laundromat1(340p).m4v')\n",
    "\n",
    "# Convention opencv\n",
    "# Si entier alors entre 0 et 255\n",
    "# Si float entre 0 et 1\n",
    "\n",
    "# Check if the video file was successfully loaded\n",
    "if not cap.isOpened():\n",
    "    print(\"Error loading video file\")\n",
    "\n",
    "# Loop through the video frames\n",
    "while cap.isOpened():\n",
    "    # Read the next frame from the video file\n",
    "    ret, frame = cap.read()\n",
    "\n",
    "    frameYuv = cv2.cvtColor(frame, cv2.COLOR_BGR2YUV)\n",
    "    # Don't forget the [] around the frame\n",
    "    hist = cv2.calcHist([frameYuv], [1,2], None, [256, 256], [0,255, 0, 255])\n",
    "\n",
    "    # Log of histogram\n",
    "    hist = np.log(hist)\n",
    "\n",
    "    # Normalization of histogram\n",
    "    hist = hist/ hist.max() * 255\n",
    "\n",
    "    # Conversion for opencv\n",
    "    hist = hist.astype(np.uint8)\n",
    "\n",
    "    # Colormap because it's cool\n",
    "    hist = cv2.applyColorMap(hist, cv2.COLORMAP_JET)\n",
    "\n",
    "    # Check if there are no more frames\n",
    "    if not ret:\n",
    "        break\n",
    "\n",
    "    # Display the frame\n",
    "    cv2.imshow('frame', frame)\n",
    "    cv2.imshow('histogramme', hist)\n",
    "\n",
    "    # Wait for a key press\n",
    "    if cv2.waitKey(25) & 0xFF == ord('q'):\n",
    "        break\n",
    "\n",
    "# Release the video file and close the window\n",
    "cap.release()\n",
    "cv2.destroyAllWindows()\n"
   ]
  },
  {
   "attachments": {},
   "cell_type": "markdown",
   "id": "9a09ec84",
   "metadata": {},
   "source": [
    "### Q2 \n",
    "\n",
    "On remarque des changements soudains lors des changements de plan alors que les scènes ont des changements progressifs de leur histogramme.\n",
    "\n",
    "On pourrait calculer l'auto-corrélation entre l'histogramme courant et le précédent.\n",
    "La valeur de cette auto-corrélation serait ensuite comparée à un seuil prédéfini et lorsque l'auto-corrélation dépasse ce seuil, on détecterait un changement de plan. \n"
   ]
  }
 ],
 "metadata": {
  "kernelspec": {
   "display_name": "Python 3 (ipykernel)",
   "language": "python",
   "name": "python3"
  },
  "language_info": {
   "codemirror_mode": {
    "name": "ipython",
    "version": 3
   },
   "file_extension": ".py",
   "mimetype": "text/x-python",
   "name": "python",
   "nbconvert_exporter": "python",
   "pygments_lexer": "ipython3",
   "version": "3.8.10"
  }
 },
 "nbformat": 4,
 "nbformat_minor": 5
}
